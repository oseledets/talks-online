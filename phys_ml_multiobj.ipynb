{
  "nbformat": 4,
  "nbformat_minor": 0,
  "metadata": {
    "colab": {
      "name": "phys_ml_multiobj.ipynb",
      "provenance": [],
      "collapsed_sections": [],
      "include_colab_link": true
    },
    "kernelspec": {
      "name": "python3",
      "display_name": "Python 3"
    },
    "accelerator": "GPU"
  },
  "cells": [
    {
      "cell_type": "markdown",
      "metadata": {
        "id": "view-in-github",
        "colab_type": "text"
      },
      "source": [
        "<a href=\"https://colab.research.google.com/github/oseledets/talks-online/blob/master/phys_ml_multiobj.ipynb\" target=\"_parent\"><img src=\"https://colab.research.google.com/assets/colab-badge.svg\" alt=\"Open In Colab\"/></a>"
      ]
    },
    {
      "cell_type": "markdown",
      "metadata": {
        "id": "UGyeqTW3rCP8",
        "colab_type": "text"
      },
      "source": [
        "# Physical ML from multi-objective optimization perspective"
      ]
    },
    {
      "cell_type": "markdown",
      "metadata": {
        "id": "jlwum9djrbuh",
        "colab_type": "text"
      },
      "source": [
        "## Why multi-objective?\n",
        "\n",
        "1. We need to train model $f(\\theta|x)$ such that it solves PDE, so $\\mathcal{L}_1$ is a loss to evaluate quality of solution\n",
        "2. We have boundary/initial conditions that also have to be satisfied, therefore loss $\\mathcal{L}_2$ comes from this requirement"
      ]
    },
    {
      "cell_type": "code",
      "metadata": {
        "id": "vlzy3AXwMU9h",
        "colab_type": "code",
        "colab": {
          "base_uri": "https://localhost:8080/",
          "height": 322
        },
        "outputId": "bf80d168-0fc7-4158-a6bd-efd3b5e0c40b"
      },
      "source": [
        "!pip install flax"
      ],
      "execution_count": null,
      "outputs": [
        {
          "output_type": "stream",
          "text": [
            "Collecting flax\n",
            "\u001b[?25l  Downloading https://files.pythonhosted.org/packages/13/f6/33d3a8e180787d4540421acf57d8a64175dc23dc29a9125c4f76977b0d75/flax-0.1.0-py3-none-any.whl (77kB)\n",
            "\r\u001b[K     |████▏                           | 10kB 16.2MB/s eta 0:00:01\r\u001b[K     |████████▍                       | 20kB 1.8MB/s eta 0:00:01\r\u001b[K     |████████████▋                   | 30kB 2.3MB/s eta 0:00:01\r\u001b[K     |████████████████▉               | 40kB 2.5MB/s eta 0:00:01\r\u001b[K     |█████████████████████           | 51kB 2.0MB/s eta 0:00:01\r\u001b[K     |█████████████████████████▏      | 61kB 2.3MB/s eta 0:00:01\r\u001b[K     |█████████████████████████████▍  | 71kB 2.6MB/s eta 0:00:01\r\u001b[K     |████████████████████████████████| 81kB 2.2MB/s \n",
            "\u001b[?25hRequirement already satisfied: matplotlib in /usr/local/lib/python3.6/dist-packages (from flax) (3.2.2)\n",
            "Requirement already satisfied: numpy>=1.12 in /usr/local/lib/python3.6/dist-packages (from flax) (1.18.5)\n",
            "Requirement already satisfied: jax>=0.1.59 in /usr/local/lib/python3.6/dist-packages (from flax) (0.1.69)\n",
            "Requirement already satisfied: dataclasses in /usr/local/lib/python3.6/dist-packages (from flax) (0.7)\n",
            "Requirement already satisfied: msgpack in /usr/local/lib/python3.6/dist-packages (from flax) (1.0.0)\n",
            "Requirement already satisfied: cycler>=0.10 in /usr/local/lib/python3.6/dist-packages (from matplotlib->flax) (0.10.0)\n",
            "Requirement already satisfied: python-dateutil>=2.1 in /usr/local/lib/python3.6/dist-packages (from matplotlib->flax) (2.8.1)\n",
            "Requirement already satisfied: kiwisolver>=1.0.1 in /usr/local/lib/python3.6/dist-packages (from matplotlib->flax) (1.2.0)\n",
            "Requirement already satisfied: pyparsing!=2.0.4,!=2.1.2,!=2.1.6,>=2.0.1 in /usr/local/lib/python3.6/dist-packages (from matplotlib->flax) (2.4.7)\n",
            "Requirement already satisfied: opt-einsum in /usr/local/lib/python3.6/dist-packages (from jax>=0.1.59->flax) (3.2.1)\n",
            "Requirement already satisfied: absl-py in /usr/local/lib/python3.6/dist-packages (from jax>=0.1.59->flax) (0.9.0)\n",
            "Requirement already satisfied: six in /usr/local/lib/python3.6/dist-packages (from cycler>=0.10->matplotlib->flax) (1.12.0)\n",
            "Installing collected packages: flax\n",
            "Successfully installed flax-0.1.0\n"
          ],
          "name": "stdout"
        }
      ]
    },
    {
      "cell_type": "code",
      "metadata": {
        "id": "il6-5S8lrZj1",
        "colab_type": "code",
        "colab": {}
      },
      "source": [
        "import jax.numpy as jnp\n",
        "from jax import jit, vmap\n",
        "from jax import random\n",
        "import jax\n",
        "import numpy as np  \n",
        "import matplotlib.pyplot as plt\n",
        "import flax\n",
        "import flax.nn as nn\n",
        "from flax import optim"
      ],
      "execution_count": null,
      "outputs": []
    },
    {
      "cell_type": "markdown",
      "metadata": {
        "id": "NCZy51IwMRqK",
        "colab_type": "text"
      },
      "source": [
        "### Test problem \n",
        "\n",
        "As a test problem, we use Burgers equation.\n",
        "As a test model, we consider neural network with 9 layers and hyperbolic tangent activation function after every layer and 20 neuron in every hidden layer (https://arxiv.org/pdf/1711.10561.pdf) "
      ]
    },
    {
      "cell_type": "code",
      "metadata": {
        "id": "YxffYoDL2FIP",
        "colab_type": "code",
        "colab": {}
      },
      "source": [
        "class MLP(nn.Module):\n",
        "  \"\"\"Multi Layer Perceptron.\"\"\"\n",
        "\n",
        "  def apply(self, x, t, num_layers=9):\n",
        "    y = jnp.concatenate((x[None], t[None]))\n",
        "    for i in range(num_layers):\n",
        "        y = nn.Dense(y, 20)\n",
        "        y = nn.tanh(y)\n",
        "    u = nn.Dense(y, 1)\n",
        "    return u"
      ],
      "execution_count": null,
      "outputs": []
    },
    {
      "cell_type": "code",
      "metadata": {
        "id": "TCOUdPbJ2RWl",
        "colab_type": "code",
        "colab": {}
      },
      "source": [
        "Nu = 100\n",
        "x_range = jnp.linspace(-1, 1, Nu)\n",
        "t_range = jnp.linspace(0, 1, Nu)\n",
        "u_init = -jnp.sin(jnp.pi * x_range)\n",
        "u_right = jnp.zeros_like(t_range)\n",
        "u_left = jnp.zeros_like(t_range)\n"
      ],
      "execution_count": null,
      "outputs": []
    },
    {
      "cell_type": "code",
      "metadata": {
        "id": "D02UCl3B2Tks",
        "colab_type": "code",
        "colab": {}
      },
      "source": [
        "rng = random.PRNGKey(0)\n",
        "rng, key = random.split(rng)\n",
        "_, initial_params = MLP.init(key, x_range[0], t_range[0])\n",
        "model_init = nn.Model(MLP, initial_params)\n",
        "model_init_batch = jax.jit(jax.vmap(model_init, [0, 0]))"
      ],
      "execution_count": null,
      "outputs": []
    },
    {
      "cell_type": "code",
      "metadata": {
        "id": "ci52VQdGkppt",
        "colab_type": "code",
        "colab": {
          "base_uri": "https://localhost:8080/",
          "height": 282
        },
        "outputId": "d2c55926-54f8-4d32-f86e-124b4adc0eee"
      },
      "source": [
        "plt.plot(model_init_batch(x_range, t_range))"
      ],
      "execution_count": null,
      "outputs": [
        {
          "output_type": "execute_result",
          "data": {
            "text/plain": [
              "[<matplotlib.lines.Line2D at 0x7fd228230da0>]"
            ]
          },
          "metadata": {
            "tags": []
          },
          "execution_count": 7
        },
        {
          "output_type": "display_data",
          "data": {
            "image/png": "[encoded data removed]",
            "text/plain": [
              "<Figure size 432x288 with 1 Axes>"
            ]
          },
          "metadata": {
            "tags": [],
            "needs_background": "light"
          }
        }
      ]
    },
    {
      "cell_type": "code",
      "metadata": {
        "id": "0FFTfQTE2VYg",
        "colab_type": "code",
        "colab": {}
      },
      "source": [
        "Nf = 100\n",
        "x_range = jnp.linspace(-1, 1, Nu)\n",
        "t_range = jnp.linspace(0, 1, Nu)\n",
        "X, T = jnp.meshgrid(x_range, t_range)\n",
        "x_coloc = X.flatten()\n",
        "t_coloc = T.flatten()\n",
        "\n"
      ],
      "execution_count": null,
      "outputs": []
    },
    {
      "cell_type": "code",
      "metadata": {
        "id": "lZzlqapbOAVN",
        "colab_type": "code",
        "colab": {}
      },
      "source": [
        "def pde_res_0(model, x, t):\n",
        "    u = model(x, t)\n",
        "    u_t = jax.jacobian(model, 1)(x, t)\n",
        "    u_x = jax.jacobian(model, 0)(x, t)\n",
        "    u_xx = jax.hessian(model, 0)(x, t)\n",
        "    res = u_t + u * u_x - (0.01/jnp.pi)*u_xx\n",
        "    return res\n",
        "\n",
        "pde_res_0 = jax.jit(pde_res_0) #Now this thing is fast\n",
        "pde_res = jax.jit(jax.vmap(pde_res_0, [None, 0, 0]))\n",
        "\n",
        "\n",
        "def pde_bc_0(model, t, u_left, u_right):\n",
        "    u_left_pred = model(jnp.array(-1.0), t)\n",
        "    u_right_pred = model(jnp.array(1.0), t)\n",
        "    return (u_left_pred - u_left)**2 + (u_right_pred-u_right)**2\n",
        "\n",
        "def pde_init_0(model, x, u_init):\n",
        "    u_init_pred = model(x, jnp.array(0.0))\n",
        "    return (u_init_pred - u_init)**2\n",
        "\n",
        "pde_bc = jax.jit(jax.vmap(pde_bc_0, [None, 0, 0, 0]))\n",
        "pde_init = jax.jit(jax.vmap(pde_init_0, [None, 0, 0]))\n",
        "\n",
        "\n",
        "#Now we can define losses\n",
        "\n",
        "@jax.jit\n",
        "def loss_pde(model, x, t):\n",
        "    pred = pde_res(model, x, t)\n",
        "    return jnp.mean(jnp.square(pred))\n",
        "\n",
        "@jax.jit\n",
        "def loss_bc(model, t, u_left, u_right):\n",
        "    pred = pde_bc(model, t, u_left, u_right)\n",
        "    return jnp.mean(pred)\n",
        "\n",
        "@jax.jit\n",
        "def loss_init(model, x, u_init):\n",
        "    pred = pde_init(model, x, u_init)\n",
        "    return jnp.mean(pred)\n",
        "\n",
        "@jax.jit\n",
        "def loss_baseline(model, xc, tc, x, t, u_left, u_right, u_init):\n",
        "    return loss_pde(model, xc, tc) + loss_bc(model, t, u_left, u_right) + loss_init(model, x, u_init)\n",
        "\n",
        "@jax.jit\n",
        "def loss_init_bc(model, x, u_init, t, u_left, u_right):\n",
        "    pred_init = pde_init(model, x, u_init)\n",
        "    pred_bc = pde_bc(model, t, u_left, u_right)\n",
        "    return jnp.mean(pred_init) + jnp.mean(pred_bc)"
      ],
      "execution_count": null,
      "outputs": []
    },
    {
      "cell_type": "code",
      "metadata": {
        "id": "qiKaL362VgYd",
        "colab_type": "code",
        "colab": {}
      },
      "source": [
        "#print(loss_f(model, x_coloc, t_coloc), loss_bc(model, t_range, u_left, u_right), \n",
        "#    loss_init(model, x_range, u_init))"
      ],
      "execution_count": null,
      "outputs": []
    },
    {
      "cell_type": "code",
      "metadata": {
        "id": "18CMeRmDxKl-",
        "colab_type": "code",
        "colab": {}
      },
      "source": [
        "lr = 1e-2\n",
        "num_epoch = 1000\n",
        "checkpoint_adam_model_epoch = 10"
      ],
      "execution_count": null,
      "outputs": []
    },
    {
      "cell_type": "code",
      "metadata": {
        "id": "KbfO16DqXT-U",
        "colab_type": "code",
        "colab": {}
      },
      "source": [
        "model_adam = nn.Model(MLP, model_init.params)\n",
        "\n",
        "optimizer_def = optim.Adam(learning_rate=lr)\n",
        "optimizer = optimizer_def.create(model_adam)\n",
        "\n",
        "@jax.jit\n",
        "def update_init(optimizer):\n",
        "    loss_init_val, grad_init = jax.value_and_grad(loss_init)(optimizer.target, x_range, u_init)\n",
        "    return optimizer.apply_gradient(grad_init)\n",
        "\n",
        "@jax.jit\n",
        "def update_baseline(optimizer):\n",
        "    loss, grad = jax.value_and_grad(loss_baseline)(optimizer.target, x_coloc, t_coloc, \\\n",
        "                                                   x_range, t_range, u_left, \\\n",
        "                                                   u_right, u_init)\n",
        "    return optimizer.apply_gradient(grad)\n"
      ],
      "execution_count": null,
      "outputs": []
    },
    {
      "cell_type": "code",
      "metadata": {
        "id": "CB_wE5bnYfE1",
        "colab_type": "code",
        "colab": {}
      },
      "source": [
        "loss_adam_conv = {\n",
        "    \"Init\": [],\n",
        "    \"BC\": [],\n",
        "    \"PDE\": []\n",
        "}\n",
        "for epoch_idx in range(num_epoch):\n",
        "    if epoch_idx == checkpoint_adam_model_epoch:\n",
        "        checkpoint_adam_model = optimizer.target\n",
        "    # optimizer = update_baseline(optimizer)\n",
        "    optimizer = update_init(optimizer)\n",
        "    loss_adam_conv[\"Init\"].append(loss_init(optimizer.target, x_range, u_init))\n",
        "    loss_adam_conv[\"BC\"].append(loss_bc(optimizer.target, t_range, u_left, u_right))\n",
        "    loss_adam_conv[\"PDE\"].append(loss_pde(optimizer.target, x_coloc, t_coloc))"
      ],
      "execution_count": null,
      "outputs": []
    },
    {
      "cell_type": "code",
      "metadata": {
        "id": "2x3oLw8ajLYP",
        "colab_type": "code",
        "colab": {}
      },
      "source": [
        ""
      ],
      "execution_count": null,
      "outputs": []
    },
    {
      "cell_type": "code",
      "metadata": {
        "id": "kU1WpBohhTIH",
        "colab_type": "code",
        "colab": {
          "base_uri": "https://localhost:8080/",
          "height": 282
        },
        "outputId": "5dd82dd0-77ef-4b9e-b85f-06c0fe2b8753"
      },
      "source": [
        "plt.plot(jax.vmap(optimizer.target, [0, 0])(x_range, 0 * x_range))\n",
        "plt.plot(u_init)"
      ],
      "execution_count": null,
      "outputs": [
        {
          "output_type": "execute_result",
          "data": {
            "text/plain": [
              "[<matplotlib.lines.Line2D at 0x7fd227ae8f28>]"
            ]
          },
          "metadata": {
            "tags": []
          },
          "execution_count": 14
        },
        {
          "output_type": "display_data",
          "data": {
            "image/png": "[encoded data removed]",
            "text/plain": [
              "<Figure size 432x288 with 1 Axes>"
            ]
          },
          "metadata": {
            "tags": [],
            "needs_background": "light"
          }
        }
      ]
    },
    {
      "cell_type": "markdown",
      "metadata": {
        "id": "pmEihn98echh",
        "colab_type": "text"
      },
      "source": [
        "## EDM approach"
      ]
    },
    {
      "cell_type": "code",
      "metadata": {
        "id": "WGUjS3qnRbty",
        "colab_type": "code",
        "colab": {}
      },
      "source": [
        "import copy\n",
        "# model_start = optimizer.target"
      ],
      "execution_count": null,
      "outputs": []
    },
    {
      "cell_type": "code",
      "metadata": {
        "id": "K41lR80MMuvM",
        "colab_type": "code",
        "colab": {}
      },
      "source": [
        "loss_list_optimize = {\n",
        "            \"BC\": loss_bc,\n",
        "            \"Init\": loss_init,\n",
        "            \"PDE\": loss_pde,\n",
        "            # \"Init + BC\": loss_init_bc\n",
        "            }\n",
        "\n",
        "args_optimize = {\n",
        "    \"BC\": [t_range, u_left, u_right],\n",
        "    \"Init\": [x_range, u_init],\n",
        "    \"PDE\": [x_coloc, t_coloc],\n",
        "    # \"Init + BC\": [x_range, u_init, t_range, u_left, u_right]\n",
        "}"
      ],
      "execution_count": null,
      "outputs": []
    },
    {
      "cell_type": "code",
      "metadata": {
        "id": "iTdC4J1stpiW",
        "colab_type": "code",
        "colab": {}
      },
      "source": [
        "import numpy as onp\n",
        "from jax import lax\n",
        "from jax import flatten_util\n",
        "\n",
        "max_iter_fw = 300\n",
        "tol_fw = 1e-6\n",
        "lr_edm_max = 1e-2\n",
        "\n",
        "@jax.jit\n",
        "def make_edm_step(model):\n",
        "    current_params, unravel_func = flatten_util.ravel_pytree(model)\n",
        "    num_params = current_params.shape[0]\n",
        "    num_losses = len(loss_list_optimize)\n",
        "    grads = jnp.zeros((num_params, num_losses))\n",
        "    loss_vals = jnp.zeros(len(loss_list_optimize))\n",
        "    for i, loss_name in enumerate(loss_list_optimize):\n",
        "        cur_loss, cur_grad = jax.value_and_grad(loss_list_optimize[loss_name])(model, *args_optimize[loss_name])\n",
        "        vec_cur_grad, _ = flatten_util.ravel_pytree(cur_grad)\n",
        "        grads = jax.ops.index_update(grads, jax.ops.index[:, i], vec_cur_grad)\n",
        "        loss_vals = jax.ops.index_update(loss_vals, jax.ops.index[i], cur_loss)\n",
        "        # grads[:, i] = vec_cur_grad\n",
        "    if num_losses > 2:\n",
        "        db, alpha = get_edm_direction(grads)\n",
        "    elif num_losses == 2:\n",
        "        norm_grads = jnp.linalg.norm(grads, axis=0)\n",
        "        # print(norm_grads)\n",
        "        db = ((grads[:, 0] * norm_grads[1]) + (grads[:, 1] * norm_grads[0])) / jnp.sum(norm_grads)\n",
        "    # print(db)\n",
        "    lr_edm = jnp.minimum((loss_vals @ alpha) / jnp.linalg.norm(db), lr_edm_max)\n",
        "    new_params = current_params - lr_edm * db\n",
        "    new_model = unravel_func(new_params)\n",
        "    return new_model\n",
        "\n",
        "@jax.jit\n",
        "def get_edm_direction(grads):\n",
        "    norm_grads = jnp.linalg.norm(grads, axis=0)\n",
        "    # print(norm_grads)\n",
        "    normed_grads = grads / norm_grads\n",
        "    num_grads = grads.shape[1]\n",
        "    M = normed_grads.T @ normed_grads \n",
        "    alpha = jnp.ones(num_grads) / num_grads\n",
        "    for i in range(max_iter_fw):\n",
        "        alpha_M = M @ alpha\n",
        "        t = jnp.argmin(alpha_M)\n",
        "        gamma = get_stepsize(alpha, t, M)\n",
        "        alpha = (1 - gamma) * alpha\n",
        "\n",
        "        alpha = jax.ops.index_add(alpha, jax.ops.index[t], gamma)\n",
        "        # alpha[t] += gamma\n",
        "        # if gamma < tol_fw:\n",
        "        #     break\n",
        "    d_p = normed_grads @ alpha\n",
        "    scale_factor = jnp.sum(alpha / norm_grads)\n",
        "    alpha = alpha / scale_factor\n",
        "    return normed_grads @ alpha, alpha\n",
        "\n",
        "@jax.jit\n",
        "def get_stepsize(alpha, t, M):\n",
        "    diff = alpha\n",
        "    diff = jax.ops.index_add(diff, jax.ops.index[t], -1)\n",
        "    # diff[t] -= 1\n",
        "    gamma = (diff @ M @ alpha) / (diff @ M @ diff)\n",
        "    return jnp.maximum(jnp.minimum(gamma, 1), 0)\n",
        "    # cross_inner_prod = M[t, :] @ alpha\n",
        "\n",
        "\n",
        "    # if cross_inner_prod >= M[t, t]:\n",
        "    #     gamma = 1\n",
        "    # elif cross_inner_prod >= alpha @ M @ alpha:\n",
        "    #     gamma = 0\n",
        "    # else:\n",
        "    #     diff = alpha.copy()\n",
        "    #     diff = jax.ops.index_add(diff, jax.ops.index[t], -1)\n",
        "    #     # diff[t] -= 1\n",
        "    #     gamma = (diff @ M @ alpha) / (diff @ M @ diff)\n",
        "    # return gamma"
      ],
      "execution_count": null,
      "outputs": []
    },
    {
      "cell_type": "code",
      "metadata": {
        "id": "8Joer3Kne4SH",
        "colab_type": "code",
        "colab": {}
      },
      "source": [
        "loss_list_log = {\n",
        "    \"BC\": loss_bc, \n",
        "    \"Init\": loss_init,\n",
        "    \"PDE\": loss_pde\n",
        "    }\n",
        "args_log = {\n",
        "    \"BC\": [t_range, u_left, u_right], \n",
        "    \"Init\": [x_range, u_init],\n",
        "    \"PDE\": [x_coloc, t_coloc]\n",
        "    }\n",
        "#loss_list = {\"init\": loss_init}\n",
        "#args = {\"init\": [x_range, u_init]}\n",
        "# loss_list = {\"BC\": loss_bc, \"init\": loss_init, \"pde\": loss_pde}\n",
        "# args = {\"BC\": [t_range, u_left, u_right], \"init\": [x_range, u_init], \"pde\": [x_coloc, t_coloc]}\n",
        "\n",
        "loss_all_conv = {loss_name: [] for loss_name in loss_list_log}\n",
        "model_edm = nn.Model(MLP, model_init.params)\n",
        "# model_edm = nn.Model(MLP, checkpoint_adam_model.params)\n",
        "model_edm = nn.Model(MLP, optimizer.target.params)\n",
        "for loss_name in loss_list_log:\n",
        "    loss_all_conv[loss_name].append(loss_list_log[loss_name](model_edm, *args_log[loss_name]))\n",
        "for _ in range(num_epoch):\n",
        "    model_edm = make_edm_step(model_edm)\n",
        "    # print(model_edm)\n",
        "    for loss_name in loss_list_log:\n",
        "        loss_all_conv[loss_name].append(loss_list_log[loss_name](model_edm, *args_log[loss_name]))"
      ],
      "execution_count": null,
      "outputs": []
    },
    {
      "cell_type": "code",
      "metadata": {
        "id": "kgRqIdz8Selr",
        "colab_type": "code",
        "colab": {}
      },
      "source": [
        "# loss_all_conv['BC'][-1], loss_all_conv['init'][-1]"
      ],
      "execution_count": null,
      "outputs": []
    },
    {
      "cell_type": "code",
      "metadata": {
        "id": "bCXZcZ0sUOEP",
        "colab_type": "code",
        "colab": {}
      },
      "source": [
        "# loss_all_conv['init'][-1], loss_all_conv['BC'][-1], loss_all_conv['pde'][-1]"
      ],
      "execution_count": null,
      "outputs": []
    },
    {
      "cell_type": "code",
      "metadata": {
        "id": "LgVyEdi5l9M4",
        "colab_type": "code",
        "colab": {
          "base_uri": "https://localhost:8080/",
          "height": 265
        },
        "outputId": "694c6c15-4ca1-425f-fac5-0daf758d5a86"
      },
      "source": [
        "plt.plot(loss_all_conv[\"BC\"], label=\"EDM\")\n",
        "plt.plot(loss_adam_conv[\"BC\"], label=\"Adam\")\n",
        "plt.ylabel(\"BC loss\")\n",
        "plt.legend()\n",
        "plt.yscale(\"log\")\n",
        "plt.grid(True)"
      ],
      "execution_count": null,
      "outputs": [
        {
          "output_type": "display_data",
          "data": {
            "image/png": "[encoded data removed]",
            "text/plain": [
              "<Figure size 432x288 with 1 Axes>"
            ]
          },
          "metadata": {
            "tags": [],
            "needs_background": "light"
          }
        }
      ]
    },
    {
      "cell_type": "code",
      "metadata": {
        "id": "3rK9ul8Jr63M",
        "colab_type": "code",
        "colab": {
          "base_uri": "https://localhost:8080/",
          "height": 265
        },
        "outputId": "e5d81e6a-5186-4d98-d8d1-fee6958b4b62"
      },
      "source": [
        "plt.plot(loss_all_conv[\"Init\"], label=\"EDM\")\n",
        "plt.plot(loss_adam_conv[\"Init\"], label=\"Adam\")\n",
        "plt.ylabel(\"Init loss\")\n",
        "plt.legend()\n",
        "plt.grid(True)\n",
        "plt.yscale(\"log\")"
      ],
      "execution_count": null,
      "outputs": [
        {
          "output_type": "display_data",
          "data": {
            "image/png": "[encoded data removed]",
            "text/plain": [
              "<Figure size 432x288 with 1 Axes>"
            ]
          },
          "metadata": {
            "tags": [],
            "needs_background": "light"
          }
        }
      ]
    },
    {
      "cell_type": "code",
      "metadata": {
        "id": "cJJutEUDtO1-",
        "colab_type": "code",
        "colab": {
          "base_uri": "https://localhost:8080/",
          "height": 265
        },
        "outputId": "021f6708-520f-471d-a2ab-01ad78df44eb"
      },
      "source": [
        "plt.plot(loss_all_conv[\"PDE\"], label=\"EDM\")\n",
        "plt.plot(loss_adam_conv[\"PDE\"], label=\"Adam\")\n",
        "plt.ylabel(\"PDE loss\")\n",
        "plt.legend()\n",
        "plt.yscale(\"log\")\n",
        "plt.grid(True)"
      ],
      "execution_count": null,
      "outputs": [
        {
          "output_type": "display_data",
          "data": {
            "image/png": "[encoded data removed]",
            "text/plain": [
              "<Figure size 432x288 with 1 Axes>"
            ]
          },
          "metadata": {
            "tags": [],
            "needs_background": "light"
          }
        }
      ]
    },
    {
      "cell_type": "code",
      "metadata": {
        "id": "q-gySrzFtRnB",
        "colab_type": "code",
        "colab": {
          "base_uri": "https://localhost:8080/",
          "height": 282
        },
        "outputId": "7629d647-d8ee-4bc8-e43f-d2490f07b32f"
      },
      "source": [
        "plt.plot(jax.vmap(model_edm, [0, 0])(x_range, 0 * x_range),label=\"EDM\")\n",
        "plt.plot(jax.vmap(model_adam, [0, 0])(x_range, 0 * x_range),label=\"Adam\")\n",
        "plt.plot(u_init, label=\"True\")\n",
        "plt.legend()"
      ],
      "execution_count": null,
      "outputs": [
        {
          "output_type": "execute_result",
          "data": {
            "text/plain": [
              "<matplotlib.legend.Legend at 0x7fe2cf3f90f0>"
            ]
          },
          "metadata": {
            "tags": []
          },
          "execution_count": 63
        },
        {
          "output_type": "display_data",
          "data": {
            "image/png": "[encoded data removed]",
            "text/plain": [
              "<Figure size 432x288 with 1 Axes>"
            ]
          },
          "metadata": {
            "tags": [],
            "needs_background": "light"
          }
        }
      ]
    },
    {
      "cell_type": "code",
      "metadata": {
        "id": "p7Vwaa4WbxN6",
        "colab_type": "code",
        "colab": {}
      },
      "source": [
        ""
      ],
      "execution_count": null,
      "outputs": []
    }
  ]
}